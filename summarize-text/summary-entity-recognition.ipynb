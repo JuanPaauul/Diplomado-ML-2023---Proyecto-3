{
 "cells": [
  {
   "cell_type": "code",
   "execution_count": 1,
   "id": "599fcf2b-fff4-4254-8b4e-78f4ed4d1e6a",
   "metadata": {},
   "outputs": [
    {
     "name": "stdout",
     "output_type": "stream",
     "text": [
      "Collecting azure-ai-textanalytics==5.3.0\n",
      "  Downloading azure_ai_textanalytics-5.3.0-py3-none-any.whl.metadata (82 kB)\n",
      "     ---------------------------------------- 0.0/82.8 kB ? eta -:--:--\n",
      "     ---------------------------------------- 0.0/82.8 kB ? eta -:--:--\n",
      "     ---------------------------------------- 0.0/82.8 kB ? eta -:--:--\n",
      "     ---------------------------------------- 0.0/82.8 kB ? eta -:--:--\n",
      "     ---------------------------------------- 0.0/82.8 kB ? eta -:--:--\n",
      "     ---------------------------------------- 0.0/82.8 kB ? eta -:--:--\n",
      "     ------------------- -------------------- 41.0/82.8 kB ? eta -:--:--\n",
      "     ---------------------------------------- 82.8/82.8 kB 1.2 MB/s eta 0:00:00\n",
      "Requirement already satisfied: azure-core<2.0.0,>=1.24.0 in c:\\users\\diego\\anaconda3\\envs\\azure-ml-py38\\lib\\site-packages (from azure-ai-textanalytics==5.3.0) (1.29.5)\n",
      "Requirement already satisfied: azure-common~=1.1 in c:\\users\\diego\\anaconda3\\envs\\azure-ml-py38\\lib\\site-packages (from azure-ai-textanalytics==5.3.0) (1.1.28)\n",
      "Requirement already satisfied: isodate<1.0.0,>=0.6.1 in c:\\users\\diego\\anaconda3\\envs\\azure-ml-py38\\lib\\site-packages (from azure-ai-textanalytics==5.3.0) (0.6.1)\n",
      "Requirement already satisfied: typing-extensions>=4.0.1 in c:\\users\\diego\\anaconda3\\envs\\azure-ml-py38\\lib\\site-packages (from azure-ai-textanalytics==5.3.0) (4.7.1)\n",
      "Requirement already satisfied: requests>=2.18.4 in c:\\users\\diego\\anaconda3\\envs\\azure-ml-py38\\lib\\site-packages (from azure-core<2.0.0,>=1.24.0->azure-ai-textanalytics==5.3.0) (2.31.0)\n",
      "Requirement already satisfied: six>=1.11.0 in c:\\users\\diego\\anaconda3\\envs\\azure-ml-py38\\lib\\site-packages (from azure-core<2.0.0,>=1.24.0->azure-ai-textanalytics==5.3.0) (1.16.0)\n",
      "Requirement already satisfied: charset-normalizer<4,>=2 in c:\\users\\diego\\anaconda3\\envs\\azure-ml-py38\\lib\\site-packages (from requests>=2.18.4->azure-core<2.0.0,>=1.24.0->azure-ai-textanalytics==5.3.0) (2.0.4)\n",
      "Requirement already satisfied: idna<4,>=2.5 in c:\\users\\diego\\anaconda3\\envs\\azure-ml-py38\\lib\\site-packages (from requests>=2.18.4->azure-core<2.0.0,>=1.24.0->azure-ai-textanalytics==5.3.0) (3.4)\n",
      "Requirement already satisfied: urllib3<3,>=1.21.1 in c:\\users\\diego\\anaconda3\\envs\\azure-ml-py38\\lib\\site-packages (from requests>=2.18.4->azure-core<2.0.0,>=1.24.0->azure-ai-textanalytics==5.3.0) (1.26.18)\n",
      "Requirement already satisfied: certifi>=2017.4.17 in c:\\users\\diego\\anaconda3\\envs\\azure-ml-py38\\lib\\site-packages (from requests>=2.18.4->azure-core<2.0.0,>=1.24.0->azure-ai-textanalytics==5.3.0) (2023.7.22)\n",
      "Downloading azure_ai_textanalytics-5.3.0-py3-none-any.whl (298 kB)\n",
      "   ---------------------------------------- 0.0/298.6 kB ? eta -:--:--\n",
      "   --------- ------------------------------ 71.7/298.6 kB 1.3 MB/s eta 0:00:01\n",
      "   ------------------- -------------------- 143.4/298.6 kB 1.4 MB/s eta 0:00:01\n",
      "   --------------------------- ------------ 204.8/298.6 kB 1.4 MB/s eta 0:00:01\n",
      "   ---------------------------------------  297.0/298.6 kB 1.7 MB/s eta 0:00:01\n",
      "   ---------------------------------------- 298.6/298.6 kB 1.5 MB/s eta 0:00:00\n",
      "Installing collected packages: azure-ai-textanalytics\n",
      "Successfully installed azure-ai-textanalytics-5.3.0\n"
     ]
    }
   ],
   "source": [
    "!pip install azure-ai-textanalytics==5.3.0"
   ]
  },
  {
   "cell_type": "code",
   "execution_count": 2,
   "id": "67f08853-8a0e-4cec-8b4b-51691851900f",
   "metadata": {},
   "outputs": [],
   "source": [
    "from azure.ai.textanalytics import TextAnalyticsClient\n",
    "from azure.core.credentials import AzureKeyCredential\n",
    "from dotenv import load_dotenv\n",
    "import os\n",
    "from azure.core.credentials import AzureKeyCredential\n",
    "from azure.ai.textanalytics import (\n",
    "    TextAnalyticsClient,\n",
    "    ExtractiveSummaryAction\n",
    ") \n",
    "import pandas as pd"
   ]
  },
  {
   "cell_type": "code",
   "execution_count": 3,
   "id": "2db64cdd-064e-4cda-bbc8-b220b6d2e2e8",
   "metadata": {},
   "outputs": [
    {
     "name": "stdout",
     "output_type": "stream",
     "text": [
      "Cargar variables de entorno desde archivo .env\n"
     ]
    },
    {
     "data": {
      "text/plain": [
       "True"
      ]
     },
     "execution_count": 3,
     "metadata": {},
     "output_type": "execute_result"
    }
   ],
   "source": [
    "print(\"Cargar variables de entorno desde archivo .env\")\n",
    "load_dotenv(\"env.txt\",override=True)"
   ]
  },
  {
   "cell_type": "code",
   "execution_count": 15,
   "id": "26c17fca-9ac5-42a6-8ea6-82eb7268f1dd",
   "metadata": {},
   "outputs": [],
   "source": [
    "\n",
    "key = os.environ.get('LANGUAGE_KEY')\n",
    "endpoint = os.environ.get('LANGUAGE_ENDPOINT')\n",
    "\n",
    "# Autenticarse\n",
    "def authenticate_client():\n",
    "    ta_credential = AzureKeyCredential(key)\n",
    "    text_analytics_client = TextAnalyticsClient(\n",
    "            endpoint=endpoint, \n",
    "            credential=ta_credential)\n",
    "    return text_analytics_client\n",
    "\n",
    "client = authenticate_client()\n",
    "\n",
    "# Ejemplo para resumir texto\n",
    "def sample_extractive_summarization(client, documents):\n",
    "    document = documents\n",
    "\n",
    "    poller = client.begin_analyze_actions(\n",
    "        document,\n",
    "        actions=[\n",
    "            ExtractiveSummaryAction(max_sentence_count=1)\n",
    "        ],\n",
    "    )\n",
    "\n",
    "    document_results = poller.result()\n",
    "    for result in document_results:\n",
    "        extract_summary_result = result[0]  # first document, first result\n",
    "        if extract_summary_result.is_error:\n",
    "            print(\"Error: '{}' - Mensaje: '{}'\".format(\n",
    "                extract_summary_result.code, extract_summary_result.message\n",
    "            ))\n",
    "        else:\n",
    "            print(\"Resumen: \\n{}\".format(\n",
    "                \" \".join([sentence.text for sentence in extract_summary_result.sentences]))\n",
    "            )\n",
    "# Example function for recognizing entities from text\n",
    "def entity_recognition_example(client, documents):\n",
    "    try:\n",
    "        result = client.recognize_entities(documents = documents)[0]\n",
    "\n",
    "        print(\"Named Entities:\\n\")\n",
    "        return result.entities\n",
    "    \n",
    "    except Exception as err:\n",
    "        print(\"Encountered exception. {}\".format(err))\n",
    "\n"
   ]
  },
  {
   "cell_type": "code",
   "execution_count": 21,
   "id": "cef6b4ba-ce95-4ff9-a418-b81e3482f101",
   "metadata": {},
   "outputs": [],
   "source": [
    "document = \"Elon Reeve Musk (Pretoria, 28 de junio de 1971), \\\n",
    "    conocido como Elon Musk, es un empresario, inversor y magnate sudafricano \\\n",
    "    que también posee las nacionalidades canadiense y estadounidense. Es el fundador, \\\n",
    "X Corp.\""
   ]
  },
  {
   "cell_type": "code",
   "execution_count": 14,
   "id": "c831fd83-82c9-4ba7-9bae-e22ffb37a39f",
   "metadata": {},
   "outputs": [
    {
     "name": "stdout",
     "output_type": "stream",
     "text": [
      "Resumen: \n",
      "Elon Reeve Musk (Pretoria, 28 de junio de 1971),     conocido como Elon Musk, es un empresario, inversor y magnate sudafricano     que también posee las nacionalidades canadiense y estadounidense. Es el fundador,     consejero delegado e ingeniero jefe de SpaceX;\n"
     ]
    }
   ],
   "source": [
    "sample_extractive_summarization(client,document)"
   ]
  },
  {
   "cell_type": "code",
   "execution_count": 22,
   "id": "3443f68d-4b15-4c4b-821e-64da790a6435",
   "metadata": {},
   "outputs": [
    {
     "name": "stdout",
     "output_type": "stream",
     "text": [
      "Encountered exception. (InvalidDocumentBatch) Batch request contains too many records. Max 5 records are permitted.\n",
      "Code: InvalidDocumentBatch\n",
      "Message: Batch request contains too many records. Max 5 records are permitted.\n"
     ]
    }
   ],
   "source": [
    "entities = entity_recognition_example(client,list(document))"
   ]
  },
  {
   "cell_type": "code",
   "execution_count": 9,
   "id": "72cfc863-1bc1-443c-945b-8717ac9d4412",
   "metadata": {},
   "outputs": [
    {
     "data": {
      "text/html": [
       "<div>\n",
       "<style scoped>\n",
       "    .dataframe tbody tr th:only-of-type {\n",
       "        vertical-align: middle;\n",
       "    }\n",
       "\n",
       "    .dataframe tbody tr th {\n",
       "        vertical-align: top;\n",
       "    }\n",
       "\n",
       "    .dataframe thead th {\n",
       "        text-align: right;\n",
       "    }\n",
       "</style>\n",
       "<table border=\"1\" class=\"dataframe\">\n",
       "  <thead>\n",
       "    <tr style=\"text-align: right;\">\n",
       "      <th></th>\n",
       "      <th>Name</th>\n",
       "      <th>Category</th>\n",
       "      <th>Confidence Score</th>\n",
       "    </tr>\n",
       "  </thead>\n",
       "  <tbody>\n",
       "    <tr>\n",
       "      <th>0</th>\n",
       "      <td>Elon Reeve Musk</td>\n",
       "      <td>Person</td>\n",
       "      <td>1.00</td>\n",
       "    </tr>\n",
       "    <tr>\n",
       "      <th>1</th>\n",
       "      <td>Pretoria</td>\n",
       "      <td>Location</td>\n",
       "      <td>1.00</td>\n",
       "    </tr>\n",
       "    <tr>\n",
       "      <th>2</th>\n",
       "      <td>28 de junio de 1971</td>\n",
       "      <td>DateTime</td>\n",
       "      <td>1.00</td>\n",
       "    </tr>\n",
       "    <tr>\n",
       "      <th>3</th>\n",
       "      <td>Elon Musk</td>\n",
       "      <td>Person</td>\n",
       "      <td>1.00</td>\n",
       "    </tr>\n",
       "    <tr>\n",
       "      <th>4</th>\n",
       "      <td>empresario</td>\n",
       "      <td>PersonType</td>\n",
       "      <td>0.99</td>\n",
       "    </tr>\n",
       "    <tr>\n",
       "      <th>5</th>\n",
       "      <td>inversor</td>\n",
       "      <td>PersonType</td>\n",
       "      <td>0.97</td>\n",
       "    </tr>\n",
       "    <tr>\n",
       "      <th>6</th>\n",
       "      <td>magnate</td>\n",
       "      <td>PersonType</td>\n",
       "      <td>0.96</td>\n",
       "    </tr>\n",
       "    <tr>\n",
       "      <th>7</th>\n",
       "      <td>sudafricano</td>\n",
       "      <td>PersonType</td>\n",
       "      <td>0.64</td>\n",
       "    </tr>\n",
       "    <tr>\n",
       "      <th>8</th>\n",
       "      <td>fundador</td>\n",
       "      <td>PersonType</td>\n",
       "      <td>0.98</td>\n",
       "    </tr>\n",
       "    <tr>\n",
       "      <th>9</th>\n",
       "      <td>consejero delegado</td>\n",
       "      <td>PersonType</td>\n",
       "      <td>0.96</td>\n",
       "    </tr>\n",
       "    <tr>\n",
       "      <th>10</th>\n",
       "      <td>ingeniero jefe</td>\n",
       "      <td>PersonType</td>\n",
       "      <td>0.88</td>\n",
       "    </tr>\n",
       "    <tr>\n",
       "      <th>11</th>\n",
       "      <td>SpaceX</td>\n",
       "      <td>Organization</td>\n",
       "      <td>0.98</td>\n",
       "    </tr>\n",
       "    <tr>\n",
       "      <th>12</th>\n",
       "      <td>inversor ángel</td>\n",
       "      <td>Person</td>\n",
       "      <td>0.92</td>\n",
       "    </tr>\n",
       "    <tr>\n",
       "      <th>13</th>\n",
       "      <td>director general</td>\n",
       "      <td>PersonType</td>\n",
       "      <td>0.88</td>\n",
       "    </tr>\n",
       "    <tr>\n",
       "      <th>14</th>\n",
       "      <td>arquitecto</td>\n",
       "      <td>PersonType</td>\n",
       "      <td>0.93</td>\n",
       "    </tr>\n",
       "    <tr>\n",
       "      <th>15</th>\n",
       "      <td>Tesla, Inc.</td>\n",
       "      <td>Organization</td>\n",
       "      <td>0.92</td>\n",
       "    </tr>\n",
       "    <tr>\n",
       "      <th>16</th>\n",
       "      <td>fundador</td>\n",
       "      <td>PersonType</td>\n",
       "      <td>0.96</td>\n",
       "    </tr>\n",
       "    <tr>\n",
       "      <th>17</th>\n",
       "      <td>The Boring Company</td>\n",
       "      <td>Organization</td>\n",
       "      <td>0.91</td>\n",
       "    </tr>\n",
       "    <tr>\n",
       "      <th>18</th>\n",
       "      <td>cofundador</td>\n",
       "      <td>PersonType</td>\n",
       "      <td>0.96</td>\n",
       "    </tr>\n",
       "    <tr>\n",
       "      <th>19</th>\n",
       "      <td>Neuralink</td>\n",
       "      <td>Organization</td>\n",
       "      <td>0.99</td>\n",
       "    </tr>\n",
       "    <tr>\n",
       "      <th>20</th>\n",
       "      <td>OpenAI</td>\n",
       "      <td>Organization</td>\n",
       "      <td>0.97</td>\n",
       "    </tr>\n",
       "    <tr>\n",
       "      <th>21</th>\n",
       "      <td>director de tecnología</td>\n",
       "      <td>PersonType</td>\n",
       "      <td>0.71</td>\n",
       "    </tr>\n",
       "    <tr>\n",
       "      <th>22</th>\n",
       "      <td>X Corp.</td>\n",
       "      <td>Organization</td>\n",
       "      <td>0.87</td>\n",
       "    </tr>\n",
       "  </tbody>\n",
       "</table>\n",
       "</div>"
      ],
      "text/plain": [
       "                      Name      Category  Confidence Score\n",
       "0          Elon Reeve Musk        Person              1.00\n",
       "1                 Pretoria      Location              1.00\n",
       "2      28 de junio de 1971      DateTime              1.00\n",
       "3                Elon Musk        Person              1.00\n",
       "4               empresario    PersonType              0.99\n",
       "5                 inversor    PersonType              0.97\n",
       "6                  magnate    PersonType              0.96\n",
       "7              sudafricano    PersonType              0.64\n",
       "8                 fundador    PersonType              0.98\n",
       "9       consejero delegado    PersonType              0.96\n",
       "10          ingeniero jefe    PersonType              0.88\n",
       "11                  SpaceX  Organization              0.98\n",
       "12          inversor ángel        Person              0.92\n",
       "13        director general    PersonType              0.88\n",
       "14              arquitecto    PersonType              0.93\n",
       "15             Tesla, Inc.  Organization              0.92\n",
       "16                fundador    PersonType              0.96\n",
       "17      The Boring Company  Organization              0.91\n",
       "18              cofundador    PersonType              0.96\n",
       "19               Neuralink  Organization              0.99\n",
       "20                  OpenAI  Organization              0.97\n",
       "21  director de tecnología    PersonType              0.71\n",
       "22                 X Corp.  Organization              0.87"
      ]
     },
     "execution_count": 9,
     "metadata": {},
     "output_type": "execute_result"
    }
   ],
   "source": [
    "data_list = []\n",
    "\n",
    "for entity in entities:\n",
    "    data_list.append([entity.text, entity.category, entity.confidence_score])\n",
    "    \n",
    "columns = ['Name','Category','Confidence Score']\n",
    "df = pd.DataFrame(data_list, columns=columns)\n",
    "df"
   ]
  },
  {
   "cell_type": "code",
   "execution_count": 18,
   "id": "0235e702-c695-4b3e-b100-80a2b3b04388",
   "metadata": {},
   "outputs": [
    {
     "data": {
      "text/plain": [
       "['Elon Reeve Musk', 'Elon Musk', 'inversor ángel']"
      ]
     },
     "execution_count": 18,
     "metadata": {},
     "output_type": "execute_result"
    }
   ],
   "source": [
    "list(df[df['Category'] == 'Person'].Name)"
   ]
  },
  {
   "cell_type": "code",
   "execution_count": null,
   "id": "3eae4e95-39ac-4391-bd3c-21b89fdd5a0d",
   "metadata": {},
   "outputs": [],
   "source": []
  }
 ],
 "metadata": {
  "kernelspec": {
   "display_name": "Python 3 (ipykernel)",
   "language": "python",
   "name": "python3"
  },
  "language_info": {
   "codemirror_mode": {
    "name": "ipython",
    "version": 3
   },
   "file_extension": ".py",
   "mimetype": "text/x-python",
   "name": "python",
   "nbconvert_exporter": "python",
   "pygments_lexer": "ipython3",
   "version": "3.8.18"
  }
 },
 "nbformat": 4,
 "nbformat_minor": 5
}
