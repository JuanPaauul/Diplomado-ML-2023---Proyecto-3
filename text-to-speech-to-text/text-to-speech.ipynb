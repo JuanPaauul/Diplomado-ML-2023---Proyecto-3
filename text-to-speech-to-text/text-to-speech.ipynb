{
 "cells": [
  {
   "cell_type": "code",
   "execution_count": 4,
   "id": "d71681f0-e0ad-4819-a9ef-5015af091a54",
   "metadata": {},
   "outputs": [
    {
     "name": "stdout",
     "output_type": "stream",
     "text": [
      "Collecting azure-cognitiveservices-speech\n",
      "  Using cached azure_cognitiveservices_speech-1.32.1-py3-none-win_amd64.whl.metadata (1.5 kB)\n",
      "Using cached azure_cognitiveservices_speech-1.32.1-py3-none-win_amd64.whl (1.5 MB)\n",
      "Installing collected packages: azure-cognitiveservices-speech\n",
      "Successfully installed azure-cognitiveservices-speech-1.32.1\n"
     ]
    }
   ],
   "source": [
    "!pip install azure-cognitiveservices-speech"
   ]
  },
  {
   "cell_type": "code",
   "execution_count": 1,
   "id": "9d35d02b-6c59-4f08-91b0-789974eb3b0a",
   "metadata": {},
   "outputs": [],
   "source": [
    "from dotenv import load_dotenv"
   ]
  },
  {
   "cell_type": "code",
   "execution_count": 2,
   "id": "e417f9f1-f069-4f20-9168-a7837445ae99",
   "metadata": {},
   "outputs": [
    {
     "name": "stdout",
     "output_type": "stream",
     "text": [
      "Cargar variables de entorno desde archivo .env\n"
     ]
    },
    {
     "data": {
      "text/plain": [
       "True"
      ]
     },
     "execution_count": 2,
     "metadata": {},
     "output_type": "execute_result"
    }
   ],
   "source": [
    "print(\"Cargar variables de entorno desde archivo .env\")\n",
    "load_dotenv(\"env.txt\")"
   ]
  },
  {
   "cell_type": "code",
   "execution_count": 7,
   "id": "5e8fe24d-a599-4ec7-be66-827ba7274c0b",
   "metadata": {},
   "outputs": [
    {
     "name": "stdout",
     "output_type": "stream",
     "text": [
      "Speech to text: [Nací viejo, Mi vida ha sido un tránsito brusco de la niñez a la vejez, sin términos medios. No tuve tiempo de ser niño. Hay una pelota nuevita, guardada en algún rincón de mis recuerdos. Lo más lógico ha de ser que yo sea un verdadero niño cuando me llegue la vejez. Para ella, es cierto, uno tiene tiempo de sobra. Presumo que ha de ser a los cuarenta y nueve años, pues si llego a los cincuenta me suicido. Nacionalizo una pistola y me pego un tiro.]\n"
     ]
    }
   ],
   "source": [
    "import os\n",
    "import azure.cognitiveservices.speech as speechsdk\n",
    "\n",
    "speech_config = speechsdk.SpeechConfig(subscription=os.environ.get('SPEECH_KEY'), region=os.environ.get('SPEECH_REGION'))\n",
    "audio_config = speechsdk.audio.AudioOutputConfig(use_default_speaker=True)\n",
    "\n",
    "# El lenguaje de la voz que habla\n",
    "# ver otras voces aqui: https://learn.microsoft.com/en-us/azure/ai-services/speech-service/language-support?tabs=stt#prebuilt-neural-voices\n",
    "speech_config.speech_synthesis_voice_name='es-BO-MarceloNeural'\n",
    "\n",
    "speech_synthesizer = speechsdk.SpeechSynthesizer(speech_config=speech_config, audio_config=audio_config)\n",
    "\n",
    "text = 'Nací viejo, \\\n",
    "Mi vida ha sido un tránsito brusco de la niñez a la vejez, \\\n",
    "sin términos medios. No tuve tiempo de ser niño. Hay una pelota nuevita, \\\n",
    "guardada en algún rincón de mis recuerdos. Lo más lógico ha de ser que \\\n",
    "yo sea un verdadero niño cuando me llegue la vejez. Para ella, es cierto, \\\n",
    "uno tiene tiempo de sobra. Presumo que ha de ser a los cuarenta y nueve años, \\\n",
    "pues si llego a los cincuenta me suicido. Nacionalizo una pistola \\\n",
    "y me pego un tiro.'\n",
    "\n",
    "speech_synthesis_result = speech_synthesizer.speak_text_async(text).get()\n",
    "\n",
    "if speech_synthesis_result.reason == speechsdk.ResultReason.SynthesizingAudioCompleted:\n",
    "    print(\"Speech to text: [{}]\".format(text))\n",
    "elif speech_synthesis_result.reason == speechsdk.ResultReason.Canceled:\n",
    "    cancellation_details = speech_synthesis_result.cancellation_details\n",
    "    print(\"Speech synthesis canceled: {}\".format(cancellation_details.reason))\n",
    "    if cancellation_details.reason == speechsdk.CancellationReason.Error:\n",
    "        if cancellation_details.error_details:\n",
    "            print(\"Error details: {}\".format(cancellation_details.error_details))\n",
    "            print(\"Did you set the speech resource key and region values?\")\n"
   ]
  },
  {
   "cell_type": "code",
   "execution_count": null,
   "id": "3391a799-97e9-41a7-9e45-c5e965828b88",
   "metadata": {},
   "outputs": [],
   "source": []
  }
 ],
 "metadata": {
  "kernelspec": {
   "display_name": "Python 3 (ipykernel)",
   "language": "python",
   "name": "python3"
  },
  "language_info": {
   "codemirror_mode": {
    "name": "ipython",
    "version": 3
   },
   "file_extension": ".py",
   "mimetype": "text/x-python",
   "name": "python",
   "nbconvert_exporter": "python",
   "pygments_lexer": "ipython3",
   "version": "3.10.13"
  }
 },
 "nbformat": 4,
 "nbformat_minor": 5
}
