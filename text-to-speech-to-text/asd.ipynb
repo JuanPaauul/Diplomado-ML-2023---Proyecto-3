{
 "cells": [
  {
   "cell_type": "code",
   "execution_count": 38,
   "metadata": {},
   "outputs": [],
   "source": [
    "def called_alessandro(speach):\n",
    "  names = ['alessandro','alexandro']\n",
    "  found = False\n",
    "  name_found = ''\n",
    "  for name in names:\n",
    "    if speach.find(name) > -1:\n",
    "      found = True\n",
    "      name_found = name\n",
    "      break\n",
    "  return found, name_found"
   ]
  },
  {
   "cell_type": "code",
   "execution_count": 41,
   "metadata": {},
   "outputs": [
    {
     "data": {
      "text/plain": [
       "True"
      ]
     },
     "execution_count": 41,
     "metadata": {},
     "output_type": "execute_result"
    }
   ],
   "source": [
    "ans = '¿Hola alexandro quién es Messi?'\n",
    "called_alessandro(ans)[0]"
   ]
  },
  {
   "cell_type": "code",
   "execution_count": null,
   "metadata": {},
   "outputs": [],
   "source": []
  }
 ],
 "metadata": {
  "kernelspec": {
   "display_name": "ML-Azure",
   "language": "python",
   "name": "python3"
  },
  "language_info": {
   "codemirror_mode": {
    "name": "ipython",
    "version": 3
   },
   "file_extension": ".py",
   "mimetype": "text/x-python",
   "name": "python",
   "nbconvert_exporter": "python",
   "pygments_lexer": "ipython3",
   "version": "3.10.13"
  }
 },
 "nbformat": 4,
 "nbformat_minor": 2
}
