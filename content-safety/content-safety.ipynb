{
 "cells": [
  {
   "cell_type": "code",
   "execution_count": 1,
   "id": "4c217741-85e5-4e47-a015-452c71fb1155",
   "metadata": {},
   "outputs": [
    {
     "name": "stdout",
     "output_type": "stream",
     "text": [
      "Collecting azure-ai-contentsafety\n",
      "  Downloading azure_ai_contentsafety-1.0.0b1-py3-none-any.whl.metadata (25 kB)\n",
      "Requirement already satisfied: isodate<1.0.0,>=0.6.1 in c:\\users\\y540\\.conda\\envs\\ml-azure\\lib\\site-packages (from azure-ai-contentsafety) (0.6.1)\n",
      "Requirement already satisfied: azure-core<2.0.0,>=1.24.0 in c:\\users\\y540\\.conda\\envs\\ml-azure\\lib\\site-packages (from azure-ai-contentsafety) (1.29.5)\n",
      "Requirement already satisfied: requests>=2.18.4 in c:\\users\\y540\\.conda\\envs\\ml-azure\\lib\\site-packages (from azure-core<2.0.0,>=1.24.0->azure-ai-contentsafety) (2.31.0)\n",
      "Requirement already satisfied: six>=1.11.0 in c:\\users\\y540\\.conda\\envs\\ml-azure\\lib\\site-packages (from azure-core<2.0.0,>=1.24.0->azure-ai-contentsafety) (1.16.0)\n",
      "Requirement already satisfied: typing-extensions>=4.6.0 in c:\\users\\y540\\.conda\\envs\\ml-azure\\lib\\site-packages (from azure-core<2.0.0,>=1.24.0->azure-ai-contentsafety) (4.7.1)\n",
      "Requirement already satisfied: charset-normalizer<4,>=2 in c:\\users\\y540\\.conda\\envs\\ml-azure\\lib\\site-packages (from requests>=2.18.4->azure-core<2.0.0,>=1.24.0->azure-ai-contentsafety) (2.0.4)\n",
      "Requirement already satisfied: idna<4,>=2.5 in c:\\users\\y540\\.conda\\envs\\ml-azure\\lib\\site-packages (from requests>=2.18.4->azure-core<2.0.0,>=1.24.0->azure-ai-contentsafety) (3.4)\n",
      "Requirement already satisfied: urllib3<3,>=1.21.1 in c:\\users\\y540\\.conda\\envs\\ml-azure\\lib\\site-packages (from requests>=2.18.4->azure-core<2.0.0,>=1.24.0->azure-ai-contentsafety) (1.26.18)\n",
      "Requirement already satisfied: certifi>=2017.4.17 in c:\\users\\y540\\.conda\\envs\\ml-azure\\lib\\site-packages (from requests>=2.18.4->azure-core<2.0.0,>=1.24.0->azure-ai-contentsafety) (2023.7.22)\n",
      "Downloading azure_ai_contentsafety-1.0.0b1-py3-none-any.whl (57 kB)\n",
      "   ---------------------------------------- 0.0/57.6 kB ? eta -:--:--\n",
      "   ------- -------------------------------- 10.2/57.6 kB ? eta -:--:--\n",
      "   --------------------- ------------------ 30.7/57.6 kB 330.3 kB/s eta 0:00:01\n",
      "   ---------------------------------------- 57.6/57.6 kB 434.6 kB/s eta 0:00:00\n",
      "Installing collected packages: azure-ai-contentsafety\n",
      "Successfully installed azure-ai-contentsafety-1.0.0b1\n"
     ]
    }
   ],
   "source": [
    "!pip install azure-ai-contentsafety"
   ]
  },
  {
   "cell_type": "code",
   "execution_count": 2,
   "id": "3b52643e-13c4-4654-9e39-cd6cd50f5c73",
   "metadata": {},
   "outputs": [],
   "source": [
    "from dotenv import load_dotenv\n",
    "import os\n",
    "from azure.ai.contentsafety import ContentSafetyClient\n",
    "from azure.core.credentials import AzureKeyCredential\n",
    "from azure.core.exceptions import HttpResponseError\n",
    "from azure.ai.contentsafety.models import AnalyzeTextOptions\n"
   ]
  },
  {
   "cell_type": "code",
   "execution_count": 6,
   "id": "8c70d032-507f-4ba1-8ce5-73c1ef7607e3",
   "metadata": {},
   "outputs": [
    {
     "name": "stdout",
     "output_type": "stream",
     "text": [
      "Cargar variables de entorno desde archivo .env\n"
     ]
    },
    {
     "data": {
      "text/plain": [
       "True"
      ]
     },
     "execution_count": 6,
     "metadata": {},
     "output_type": "execute_result"
    }
   ],
   "source": [
    "print(\"Cargar variables de entorno desde archivo .env\")\n",
    "load_dotenv(\"env.txt\",override=True)"
   ]
  },
  {
   "cell_type": "code",
   "execution_count": 8,
   "id": "19b93bcb-0022-4e69-9fc1-099f47a3bf90",
   "metadata": {},
   "outputs": [
    {
     "name": "stdout",
     "output_type": "stream",
     "text": [
      "Hate severity: 0\n",
      "SelfHarm severity: 6\n",
      "Sexual severity: 0\n",
      "Violence severity: 0\n"
     ]
    }
   ],
   "source": [
    "def analyze_text(text_input: str):\n",
    "    # analyze text\n",
    "    key = os.environ.get(\"CONTENT_SAFETY_KEY\")\n",
    "    endpoint = os.environ.get(\"CONTENT_SAFETY_ENDPOINT\")\n",
    "\n",
    "    # Create a Content Safety client\n",
    "    client = ContentSafetyClient(endpoint, AzureKeyCredential(key))\n",
    "\n",
    "    # Contruct request\n",
    "    request = AnalyzeTextOptions(text=text_input)\n",
    "\n",
    "    # Analyze text\n",
    "    try:\n",
    "        response = client.analyze_text(request)\n",
    "    except HttpResponseError as e:\n",
    "        print(\"Analyze text failed.\")\n",
    "        if e.error:\n",
    "            print(f\"Error code: {e.error.code}\")\n",
    "            print(f\"Error message: {e.error.message}\")\n",
    "            raise\n",
    "        print(e)\n",
    "        raise\n",
    "\n",
    "    if response.hate_result:\n",
    "        print(f\"Hate severity: {response.hate_result.severity}\")\n",
    "    if response.self_harm_result:\n",
    "        print(f\"SelfHarm severity: {response.self_harm_result.severity}\")\n",
    "    if response.sexual_result:\n",
    "        print(f\"Sexual severity: {response.sexual_result.severity}\")\n",
    "    if response.violence_result:\n",
    "        print(f\"Violence severity: {response.violence_result.severity}\")\n",
    "\n",
    "\n",
    "if __name__ == \"__main__\":\n",
    "    text = 'Nací viejo, \\\n",
    "    Mi vida ha sido un tránsito brusco de la niñez a la vejez, \\\n",
    "    sin términos medios. No tuve tiempo de ser niño. Nacionalizo una pistola \\\n",
    "    y me pego un tiro.'\n",
    "    \n",
    "    analyze_text(text)"
   ]
  },
  {
   "cell_type": "code",
   "execution_count": null,
   "id": "c30c54ee-619d-4c71-838b-a8ee00e5d7f9",
   "metadata": {},
   "outputs": [],
   "source": [
    "# mas ejemplos: https://github.com/Azure/azure-sdk-for-python/tree/main/sdk/contentsafety/azure-ai-contentsafety/samples\n",
    "# niveles: https://learn.microsoft.com/en-us/azure/ai-services/content-safety/concepts/harm-categories"
   ]
  },
  {
   "cell_type": "code",
   "execution_count": null,
   "id": "e2b6024d-10c7-43ef-8094-1ce587d64558",
   "metadata": {},
   "outputs": [],
   "source": []
  }
 ],
 "metadata": {
  "kernelspec": {
   "display_name": "Python 3 (ipykernel)",
   "language": "python",
   "name": "python3"
  },
  "language_info": {
   "codemirror_mode": {
    "name": "ipython",
    "version": 3
   },
   "file_extension": ".py",
   "mimetype": "text/x-python",
   "name": "python",
   "nbconvert_exporter": "python",
   "pygments_lexer": "ipython3",
   "version": "3.10.13"
  }
 },
 "nbformat": 4,
 "nbformat_minor": 5
}
